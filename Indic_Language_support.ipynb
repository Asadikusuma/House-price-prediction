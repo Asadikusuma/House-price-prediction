{
  "nbformat": 4,
  "nbformat_minor": 0,
  "metadata": {
    "colab": {
      "provenance": [],
      "authorship_tag": "ABX9TyOix1gzd+uk2k6Klcq+d/2Z",
      "include_colab_link": true
    },
    "kernelspec": {
      "name": "python3",
      "display_name": "Python 3"
    },
    "language_info": {
      "name": "python"
    }
  },
  "cells": [
    {
      "cell_type": "markdown",
      "metadata": {
        "id": "view-in-github",
        "colab_type": "text"
      },
      "source": [
        "<a href=\"https://colab.research.google.com/github/Asadikusuma/House-price-prediction/blob/main/Indic_Language_support.ipynb\" target=\"_parent\"><img src=\"https://colab.research.google.com/assets/colab-badge.svg\" alt=\"Open In Colab\"/></a>"
      ]
    },
    {
      "cell_type": "code",
      "source": [
        "!pip install googletrans\n",
        "import googletrans\n",
        "from googletrans import Translator\n",
        "class TranslatorApp:\n",
        "    def __init__(self):\n",
        "        self.lang_codes = {\"English\": \"en\", \"French\": \"fr\"}\n",
        "class TranslatorApp:\n",
        "    def _init_(self):\n",
        "        self.lang_codes = {\"English\": \"en\", \"French\": \"fr\"}\n",
        "\n",
        "    def translate(self, text, src_lang, dest_lang):\n",
        "        translator = Translator()\n",
        "        src_lang_code = self.lang_codes.get(src_lang)\n",
        "        dest_lang_code = self.lang_codes.get(dest_lang)\n",
        "        if src_lang_code and dest_lang_code:\n",
        "            translation = translator.translate(text, src=src_lang_code, dest=dest_lang_code)\n",
        "            return translation.text\n",
        "        else:\n",
        "            return \"Invalid language selection\"\n",
        "\n",
        "if __name__ == \"__main__\":\n",
        "    app = TranslatorApp()\n",
        "    while True:\n",
        "        text = input(\"Enter text to translate (or 'q' to quit): \")\n",
        "        if text.lower() == 'q':\n",
        "            break\n",
        "        src_lang = input(\"Enter source language (e.g., English): \")\n",
        "        dest_lang = input(\"Enter destination language (e.g., French): \")\n",
        "        translated_text = app.translate(text, src_lang, dest_lang)\n",
        "        print(\"Translation:\", translated_text)"
      ],
      "metadata": {
        "colab": {
          "base_uri": "https://localhost:8080/"
        },
        "id": "QWCaezmuEUx2",
        "outputId": "924d6d5d-75ff-4a2d-910e-74ca5fa24149"
      },
      "execution_count": null,
      "outputs": [
        {
          "output_type": "stream",
          "name": "stdout",
          "text": [
            "Requirement already satisfied: googletrans in /usr/local/lib/python3.10/dist-packages (3.0.0)\n",
            "Requirement already satisfied: httpx==0.13.3 in /usr/local/lib/python3.10/dist-packages (from googletrans) (0.13.3)\n",
            "Requirement already satisfied: certifi in /usr/local/lib/python3.10/dist-packages (from httpx==0.13.3->googletrans) (2024.2.2)\n",
            "Requirement already satisfied: hstspreload in /usr/local/lib/python3.10/dist-packages (from httpx==0.13.3->googletrans) (2024.2.1)\n",
            "Requirement already satisfied: sniffio in /usr/local/lib/python3.10/dist-packages (from httpx==0.13.3->googletrans) (1.3.0)\n",
            "Requirement already satisfied: chardet==3.* in /usr/local/lib/python3.10/dist-packages (from httpx==0.13.3->googletrans) (3.0.4)\n",
            "Requirement already satisfied: idna==2.* in /usr/local/lib/python3.10/dist-packages (from httpx==0.13.3->googletrans) (2.10)\n",
            "Requirement already satisfied: rfc3986<2,>=1.3 in /usr/local/lib/python3.10/dist-packages (from httpx==0.13.3->googletrans) (1.5.0)\n",
            "Requirement already satisfied: httpcore==0.9.* in /usr/local/lib/python3.10/dist-packages (from httpx==0.13.3->googletrans) (0.9.1)\n",
            "Requirement already satisfied: h11<0.10,>=0.8 in /usr/local/lib/python3.10/dist-packages (from httpcore==0.9.*->httpx==0.13.3->googletrans) (0.9.0)\n",
            "Requirement already satisfied: h2==3.* in /usr/local/lib/python3.10/dist-packages (from httpcore==0.9.*->httpx==0.13.3->googletrans) (3.2.0)\n",
            "Requirement already satisfied: hyperframe<6,>=5.2.0 in /usr/local/lib/python3.10/dist-packages (from h2==3.*->httpcore==0.9.*->httpx==0.13.3->googletrans) (5.2.0)\n",
            "Requirement already satisfied: hpack<4,>=3.0 in /usr/local/lib/python3.10/dist-packages (from h2==3.*->httpcore==0.9.*->httpx==0.13.3->googletrans) (3.0.0)\n"
          ]
        }
      ]
    }
  ]
}